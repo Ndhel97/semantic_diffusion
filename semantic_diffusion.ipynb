{
 "cells": [
  {
   "cell_type": "code",
   "execution_count": 1,
   "metadata": {},
   "outputs": [
    {
     "name": "stdout",
     "output_type": "stream",
     "text": [
      "Setting up [LPIPS] perceptual loss: trunk [alex], v[0.1], spatial [off]\n"
     ]
    },
    {
     "name": "stderr",
     "output_type": "stream",
     "text": [
      "c:\\Users\\ndhel97\\anaconda3\\envs\\sam_fusion_env\\Lib\\site-packages\\torchvision\\models\\_utils.py:208: UserWarning: The parameter 'pretrained' is deprecated since 0.13 and may be removed in the future, please use 'weights' instead.\n",
      "  warnings.warn(\n",
      "c:\\Users\\ndhel97\\anaconda3\\envs\\sam_fusion_env\\Lib\\site-packages\\torchvision\\models\\_utils.py:223: UserWarning: Arguments other than a weight enum or `None` for 'weights' are deprecated since 0.13 and may be removed in the future. The current behavior is equivalent to passing `weights=AlexNet_Weights.IMAGENET1K_V1`. You can also use `weights=AlexNet_Weights.DEFAULT` to get the most up-to-date weights.\n",
      "  warnings.warn(msg)\n"
     ]
    },
    {
     "name": "stdout",
     "output_type": "stream",
     "text": [
      "Loading model from: c:\\Users\\ndhel97\\anaconda3\\envs\\sam_fusion_env\\Lib\\site-packages\\lpips\\weights\\v0.1\\alex.pth\n"
     ]
    }
   ],
   "source": [
    "import torchvision.transforms as transforms\n",
    "from PIL import Image\n",
    "import torch\n",
    "from codes.channel.proposed_model import SemanticEncoder, SemanticDecoder\n",
    "from codes.calculate.noise import add_awgn_noise, add_rayleigh_noise\n",
    "from codes.calculate.metrics import calculate_psnr, calculate_lpips_similarity, calculate_ssim, calculate_fid_score, calculate_fid_score2, cosine_similarity, calculate_bleu_score, meteor_score\n",
    "from codes.inference_blip import BLIP, BLIP2\n",
    "from codes.inference_bert import BERT\n",
    "import os, csv\n",
    "import nltk\n",
    "from codes.diffusion_super_res import DiffusionSuperRes, DiffusionUpscaler\n",
    "from huggingface_hub import notebook_login"
   ]
  },
  {
   "cell_type": "code",
   "execution_count": 2,
   "metadata": {},
   "outputs": [],
   "source": [
    "# notebook_login()"
   ]
  },
  {
   "cell_type": "code",
   "execution_count": 3,
   "metadata": {},
   "outputs": [],
   "source": [
    "device = torch.device(\"cuda:0\")\n",
    "torch.cuda.empty_cache()"
   ]
  },
  {
   "cell_type": "code",
   "execution_count": 4,
   "metadata": {},
   "outputs": [
    {
     "data": {
      "text/plain": [
       "SemanticDecoder(\n",
       "  (deconv1): ConvTranspose2d(32, 32, kernel_size=(4, 4), stride=(1, 1), padding=(1, 1))\n",
       "  (relu1): PReLU(num_parameters=1)\n",
       "  (deconv2): ConvTranspose2d(32, 32, kernel_size=(4, 4), stride=(1, 1), padding=(1, 1))\n",
       "  (relu2): PReLU(num_parameters=1)\n",
       "  (deconv3): ConvTranspose2d(32, 32, kernel_size=(4, 4), stride=(1, 1), padding=(1, 1))\n",
       "  (relu3): PReLU(num_parameters=1)\n",
       "  (deconv4): ConvTranspose2d(32, 16, kernel_size=(4, 4), stride=(2, 2), padding=(1, 1))\n",
       "  (relu4): PReLU(num_parameters=1)\n",
       "  (deconv5): ConvTranspose2d(16, 3, kernel_size=(4, 4), stride=(2, 2), padding=(1, 1))\n",
       "  (relu5): PReLU(num_parameters=1)\n",
       "  (batchnorm5): BatchNorm2d(3, eps=1e-05, momentum=0.1, affine=True, track_running_stats=True)\n",
       "  (sigmoid): Sigmoid()\n",
       ")"
      ]
     },
     "execution_count": 4,
     "metadata": {},
     "output_type": "execute_result"
    }
   ],
   "source": [
    "# Load the model\n",
    "encoder = SemanticEncoder()\n",
    "decoder = SemanticDecoder()\n",
    "encoder_state_dict = torch.load('models/encoder_sc5.pt', map_location=device)\n",
    "decoder_state_dict = torch.load('models/decoder_sc5.pt', map_location=device)\n",
    "encoder.load_state_dict(encoder_state_dict)\n",
    "decoder.load_state_dict(decoder_state_dict)\n",
    "encoder.eval()\n",
    "decoder.eval()\n",
    "encoder.to(device)\n",
    "decoder.to(device)"
   ]
  },
  {
   "cell_type": "code",
   "execution_count": 5,
   "metadata": {},
   "outputs": [],
   "source": [
    "# Load images to Test over channel\n",
    "folder_path = \"data/kics/original/\"\n",
    "\n",
    "target_size = (150, 150)\n",
    "image_list = []"
   ]
  },
  {
   "cell_type": "code",
   "execution_count": 6,
   "metadata": {},
   "outputs": [],
   "source": [
    "''' Testing Stage '''\n",
    "captions = []\n",
    "snr_list = [2,4,6,8,10,12,14,16,18,20]\n",
    "psnr_list, psnr_list_r = [], []\n",
    "diffusion_psnr, diffusion_psnr_r = [], []"
   ]
  },
  {
   "cell_type": "code",
   "execution_count": 7,
   "metadata": {},
   "outputs": [
    {
     "name": "stderr",
     "output_type": "stream",
     "text": [
      "c:\\Users\\ndhel97\\anaconda3\\envs\\sam_fusion_env\\Lib\\site-packages\\huggingface_hub\\file_download.py:1132: FutureWarning: `resume_download` is deprecated and will be removed in version 1.0.0. Downloads always resume when possible. If you want to force a new download, use `force_download=True`.\n",
      "  warnings.warn(\n"
     ]
    },
    {
     "data": {
      "application/vnd.jupyter.widget-view+json": {
       "model_id": "563b09cd334f4732ab678561a67b33bc",
       "version_major": 2,
       "version_minor": 0
      },
      "text/plain": [
       "Loading checkpoint shards:   0%|          | 0/2 [00:00<?, ?it/s]"
      ]
     },
     "metadata": {},
     "output_type": "display_data"
    },
    {
     "name": "stderr",
     "output_type": "stream",
     "text": [
      "Some weights of the model checkpoint at distilbert-base-uncased were not used when initializing DistilBertModel: ['vocab_transform.bias', 'vocab_transform.weight', 'vocab_layer_norm.bias', 'vocab_layer_norm.weight', 'vocab_projector.bias']\n",
      "- This IS expected if you are initializing DistilBertModel from the checkpoint of a model trained on another task or with another architecture (e.g. initializing a BertForSequenceClassification model from a BertForPreTraining model).\n",
      "- This IS NOT expected if you are initializing DistilBertModel from the checkpoint of a model that you expect to be exactly identical (initializing a BertForSequenceClassification model from a BertForSequenceClassification model).\n",
      "c:\\Users\\ndhel97\\anaconda3\\envs\\sam_fusion_env\\Lib\\site-packages\\diffusers\\pipelines\\stable_diffusion\\pipeline_stable_diffusion_upscale.py:120: FutureWarning: The configuration file of the vae does not contain `scaling_factor` or it is set to 0.18215, which seems highly unlikely. If your checkpoint is a fine-tuned version of `stabilityai/stable-diffusion-x4-upscaler` you should change 'scaling_factor' to 0.08333 Please make sure to update the config accordingly, as not doing so might lead to incorrect results in future versions. If you have downloaded this checkpoint from the Hugging Face Hub, it would be very nice if you could open a Pull Request for the `vae/config.json` file\n",
      "  deprecate(\"wrong scaling_factor\", \"1.0.0\", deprecation_message, standard_warn=False)\n"
     ]
    }
   ],
   "source": [
    "# Foundation Models Load\n",
    "blip = BLIP2(device)\n",
    "bert = BERT(device)\n",
    "diffusion_res = DiffusionSuperRes(device)\n",
    "diffusion_upscaler = DiffusionUpscaler(device)\n",
    "to_pil = transforms.ToPILImage()"
   ]
  },
  {
   "cell_type": "code",
   "execution_count": 8,
   "metadata": {},
   "outputs": [
    {
     "name": "stderr",
     "output_type": "stream",
     "text": [
      "c:\\Users\\ndhel97\\anaconda3\\envs\\sam_fusion_env\\Lib\\site-packages\\diffusers\\models\\attention_processor.py:1126: UserWarning: 1Torch was not compiled with flash attention. (Triggered internally at ..\\aten\\src\\ATen\\native\\transformers\\cuda\\sdp_utils.cpp:455.)\n",
      "  hidden_states = F.scaled_dot_product_attention(\n"
     ]
    },
    {
     "name": "stdout",
     "output_type": "stream",
     "text": [
      "FID Res\n",
      "104.9628677368164\n",
      "-0.00016132381279021502\n"
     ]
    },
    {
     "name": "stderr",
     "output_type": "stream",
     "text": [
      "100%|██████████| 59/59 [00:07<00:00,  7.45it/s]\n",
      "100%|██████████| 59/59 [00:04<00:00, 12.12it/s]\n"
     ]
    },
    {
     "name": "stdout",
     "output_type": "stream",
     "text": [
      "136.18632939468955\n"
     ]
    },
    {
     "name": "stderr",
     "output_type": "stream",
     "text": [
      "100%|██████████| 59/59 [00:04<00:00, 12.44it/s]\n",
      "100%|██████████| 59/59 [00:04<00:00, 11.94it/s]\n"
     ]
    },
    {
     "name": "stdout",
     "output_type": "stream",
     "text": [
      "136.1863293445116\n",
      "FID Upscaler\n",
      "17.14322853088379\n",
      "-0.00015898972924333066\n"
     ]
    },
    {
     "name": "stderr",
     "output_type": "stream",
     "text": [
      "100%|██████████| 59/59 [00:04<00:00, 11.93it/s]\n",
      "100%|██████████| 59/59 [00:04<00:00, 12.16it/s]\n"
     ]
    },
    {
     "name": "stdout",
     "output_type": "stream",
     "text": [
      "128.14938825958842\n"
     ]
    },
    {
     "name": "stderr",
     "output_type": "stream",
     "text": [
      "100%|██████████| 59/59 [00:05<00:00, 11.64it/s]\n",
      "100%|██████████| 59/59 [00:05<00:00, 11.68it/s]\n"
     ]
    },
    {
     "name": "stdout",
     "output_type": "stream",
     "text": [
      "128.14938786308028\n",
      "Finished\n"
     ]
    }
   ],
   "source": [
    "# Paths and result directory\n",
    "path1 = 'data/kics/resized/'\n",
    "path2 = 'data/kics/fid/'\n",
    "path3 = 'data/kics/fid2/'\n",
    "path4 = 'data/kics/img_received/'\n",
    "result_dir = 'data/kics/result/'\n",
    "\n",
    "for snr in snr_list:\n",
    "    csv_filename = os.path.join(result_dir, f'{snr}.csv')\n",
    "\n",
    "    with open(csv_filename, mode='w', newline='') as csv_file:\n",
    "        csv_writer = csv.writer(csv_file)\n",
    "        csv_writer.writerow(['Image Name', 'Caption', \n",
    "                             'LPIPS', 'PSNR', 'SSIM', 'BLEU', 'BERT', 'METEOR',\n",
    "                             'LPIPS(diff_res)', 'PSNR(diff_res)', 'SSIM(diff_res)', 'BLEU(diff_res)', 'BERT(diff_res)', 'METEOR(diff_res)',\n",
    "                             'LPIPS(diff_up)', 'PSNR(diff_up)', 'SSIM(diff_up)', 'BLEU(diff_up)', 'BERT(diff_up)', 'METEOR(diff_up)'\n",
    "                             ])\n",
    "        \n",
    "        for idx, filename in enumerate(os.listdir(folder_path)):\n",
    "            image_path = os.path.join(folder_path, filename)\n",
    "            image_rgb = Image.open(image_path).convert(\"RGB\")\n",
    "            \n",
    "            image_resized = image_rgb.resize(target_size)  # Resize image to target size\n",
    "            image_resized.save(path1 + filename[:-4] + '.png')\n",
    "            \n",
    "            image = transforms.ToTensor()(image_resized)\n",
    "            image = image.unsqueeze(0)  # Add a batch dimension (1, C, H, W)\n",
    "            image = image.to(device)\n",
    "            encoder_image = encoder(image)\n",
    "            \n",
    "            caption = blip.caption_image(device, image_rgb)\n",
    "            noisy_image = add_awgn_noise(encoder_image, snr)\n",
    "            noisy_image = noisy_image.to(device)\n",
    "            restored_image = decoder(noisy_image)\n",
    "            rm = restored_image\n",
    "\n",
    "            # After Process\n",
    "            img_after = to_pil(rm[0]).resize(target_size)\n",
    "            img_after.save(path4 + filename[:4] + '.png')\n",
    "            caption_after_ch = blip.caption_image(device, img_after)\n",
    "            embedding_before = bert.get_embedding(device, caption)\n",
    "            embedding_after = bert.get_embedding(device, caption_after_ch)\n",
    "            tensor_rm = transforms.ToTensor()(img_after).unsqueeze(0).to(device)\n",
    "            \n",
    "            bert_e = cosine_similarity(embedding_before, embedding_after).item()\n",
    "            lpips = calculate_lpips_similarity(image_resized, img_after)\n",
    "            psnr = calculate_psnr(image, tensor_rm).item()\n",
    "            ssim = calculate_ssim(image_resized, img_after)\n",
    "            bleu = calculate_bleu_score([caption.split()], caption_after_ch.split())\n",
    "            meteor = meteor_score([caption.split()], caption_after_ch.split())\n",
    "            \n",
    "            # Diffusion Res Process\n",
    "            rm_diff = diffusion_res.inference(img_after, 200)\n",
    "            rm_diff = rm_diff.resize(target_size)\n",
    "            rm_diff.save(path2 + filename[:-4] + '.png')\n",
    "            \n",
    "            # Calculate Metrics\n",
    "            caption_after = blip.caption_image(device, rm_diff)\n",
    "            embedding_before = bert.get_embedding(device, caption)\n",
    "            embedding_after = bert.get_embedding(device, caption_after)\n",
    "            tensor_rm = transforms.ToTensor()(rm_diff).unsqueeze(0).to(device)\n",
    "            \n",
    "            bert_res = cosine_similarity(embedding_before, embedding_after).item()\n",
    "            lpips_res = calculate_lpips_similarity(img_after, rm_diff)\n",
    "            psnr_res = calculate_psnr(image, tensor_rm).item()\n",
    "            ssim_res = calculate_ssim(image_resized, rm_diff)\n",
    "            bleu_res = calculate_bleu_score([caption.split()], caption_after.split())\n",
    "            meteor_res = meteor_score([caption.split()], caption_after.split())\n",
    "            \n",
    "            # Diffusion Upscale Process\n",
    "            rm_diff = diffusion_upscaler.inference(caption_after, img_after, 200)\n",
    "            rm_diff = rm_diff.resize(target_size)\n",
    "            rm_diff.save(path3 + filename[:-4] + '.png')\n",
    "            \n",
    "            # Calculate Metrics\n",
    "            caption_after = blip.caption_image(device, rm_diff)\n",
    "            embedding_before = bert.get_embedding(device, caption)\n",
    "            embedding_after = bert.get_embedding(device, caption_after)\n",
    "            tensor_rm = transforms.ToTensor()(rm_diff).unsqueeze(0).to(device)\n",
    "            \n",
    "            bert_upsc = cosine_similarity(embedding_before, embedding_after).item()\n",
    "            lpips_upsc = calculate_lpips_similarity(img_after, rm_diff)\n",
    "            psnr_upsc = calculate_psnr(image, tensor_rm).item()\n",
    "            ssim_upsc = calculate_ssim(image_resized, rm_diff)\n",
    "            bleu_upsc = calculate_bleu_score([caption.split()], caption_after.split())\n",
    "            meteor_upsc = meteor_score([caption.split()], caption_after.split())\n",
    "            \n",
    "            csv_writer.writerow([filename, caption, \n",
    "                                 lpips, psnr, ssim, bleu, bert_e, meteor,\n",
    "                                 lpips_res, psnr_res, ssim_res, bleu_res, bert_res, meteor_res,\n",
    "                                 lpips_upsc, psnr_upsc, ssim_upsc, bleu_upsc, bert_upsc, meteor_upsc])\n",
    "            \n",
    "\n",
    "print('FID Res')\n",
    "print(calculate_fid_score(path1, path2))\n",
    "print(calculate_fid_score(path2, path1))\n",
    "print(calculate_fid_score2(path1, path2, 1))\n",
    "print(calculate_fid_score2(path2, path1, 1))\n",
    "\n",
    "print('FID Upscaler')\n",
    "print(calculate_fid_score(path1, path3))\n",
    "print(calculate_fid_score(path3, path1))\n",
    "print(calculate_fid_score2(path1, path3, 1))\n",
    "print(calculate_fid_score2(path3, path1, 1))\n",
    "\n",
    "print('Finished')"
   ]
  }
 ],
 "metadata": {
  "kernelspec": {
   "display_name": "semantic_diffusion_env",
   "language": "python",
   "name": "python3"
  },
  "language_info": {
   "codemirror_mode": {
    "name": "ipython",
    "version": 3
   },
   "file_extension": ".py",
   "mimetype": "text/x-python",
   "name": "python",
   "nbconvert_exporter": "python",
   "pygments_lexer": "ipython3",
   "version": "3.11.3"
  }
 },
 "nbformat": 4,
 "nbformat_minor": 2
}

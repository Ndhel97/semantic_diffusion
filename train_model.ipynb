{
 "cells": [
  {
   "cell_type": "code",
   "execution_count": 2,
   "metadata": {},
   "outputs": [
    {
     "name": "stdout",
     "output_type": "stream",
     "text": [
      "1000\n"
     ]
    }
   ],
   "source": [
    "# Train the semantic communication channel and save encoder decoder into /models/\n",
    "import torch\n",
    "from torch.utils.data import DataLoader\n",
    "from codes.channel.proposed_model import SemanticCommunicationChannel\n",
    "from codes.train_semantic import train_semantic_communication_system\n",
    "from codes.calculate.utils import load_images, save_model\n",
    "import math, os\n",
    "\n",
    "device = torch.device(\"cuda:0\" if torch.cuda.is_available() else \"cpu\")\n",
    "torch.cuda.empty_cache()\n",
    "\n",
    "# Prepare hyperparameters\n",
    "num_epochs = 4000\n",
    "batch_size = 64\n",
    "lr = 0.0005\n",
    "train_rate = 0.8\n",
    "test_rate = 1 - train_rate\n",
    "train_snr = 15\n",
    "\n",
    "# Load images to train the semantic communication channel\n",
    "TRAIN_DIR = \"data/coco_1000/train/\"\n",
    "file_count = sum(1 for file in os.listdir(TRAIN_DIR) if file.endswith('.jpg'))\n",
    "train_size = math.ceil(file_count * train_rate)\n",
    "test_size = math.floor(file_count * test_rate)\n",
    "print(file_count)\n",
    "\n",
    "images = load_images(TRAIN_DIR)\n",
    "num_images = images.size(0)\n",
    "image_channels = images.size(1)\n",
    "image_height = images.size(2)\n",
    "image_width = images.size(3)\n",
    "\n",
    "# Reshape images tensor to fit the semantic encoder input shape\n",
    "images = images.view(num_images, image_channels, image_height, image_width)\n",
    "\n",
    "# Shuffle and split the dataset into training and test sets\n",
    "dataset = torch.utils.data.TensorDataset(images)\n",
    "\n",
    "train_loader = DataLoader(dataset, batch_size=batch_size, shuffle=True)\n",
    "\n",
    "# Prepare train channel\n",
    "channel = SemanticCommunicationChannel()\n",
    "encoder, decoder = train_semantic_communication_system(channel=channel, dataloader=train_loader, device=device, num_epochs=num_epochs, train_snr=train_snr, lr=lr)\n",
    "save_model(encoder, \"encoder_sc5\")\n",
    "save_model(decoder, \"decoder_sc5\")"
   ]
  }
 ],
 "metadata": {
  "kernelspec": {
   "display_name": "sam",
   "language": "python",
   "name": "python3"
  },
  "language_info": {
   "codemirror_mode": {
    "name": "ipython",
    "version": 3
   },
   "file_extension": ".py",
   "mimetype": "text/x-python",
   "name": "python",
   "nbconvert_exporter": "python",
   "pygments_lexer": "ipython3",
   "version": "3.11.3"
  },
  "orig_nbformat": 4
 },
 "nbformat": 4,
 "nbformat_minor": 2
}
